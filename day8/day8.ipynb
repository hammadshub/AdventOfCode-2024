{
  "nbformat": 4,
  "nbformat_minor": 0,
  "metadata": {
    "colab": {
      "provenance": []
    },
    "kernelspec": {
      "name": "python3",
      "display_name": "Python 3"
    },
    "language_info": {
      "name": "python"
    }
  },
  "cells": [
    {
      "cell_type": "markdown",
      "source": [
        "**Problem Statement: **\n",
        "You are given a grid representing a city, where each cell may contain an antenna tuned to a specific frequency. Each antenna is represented by a character, such as a lowercase letter, uppercase letter, or digit. The goal is to determine how many unique locations in the grid contain an antinodes.\n",
        "\n",
        "An antinode occurs at any point that is perfectly in line with two antennas of the same frequency, but only when one of the antennas is exactly twice as far away from the other antenna in either the horizontal or vertical direction. For every pair of antennas with the same frequency, two antinodes are created, one on either side of the antennas."
      ],
      "metadata": {
        "id": "33Cqp44_oICW"
      }
    },
    {
      "cell_type": "code",
      "execution_count": 17,
      "metadata": {
        "colab": {
          "base_uri": "https://localhost:8080/"
        },
        "id": "gFyyhy8-hy1s",
        "outputId": "b705db67-63b2-459b-d3fd-27501c867c85"
      },
      "outputs": [
        {
          "output_type": "stream",
          "name": "stdout",
          "text": [
            "Number of unique antinode locations: 341\n"
          ]
        }
      ],
      "source": [
        " def find_unique_antinodes(file_path):\n",
        "    from collections import defaultdict\n",
        "\n",
        "    # Step 1: Read the input file and parse the grid\n",
        "    with open(file_path, 'r') as file:\n",
        "        grid = [line.strip() for line in file.readlines()]\n",
        "\n",
        "    # Parse grid to collect antenna positions by frequency\n",
        "    antenna_positions = defaultdict(list)\n",
        "    rows = len(grid)\n",
        "    cols = len(grid[0])\n",
        "\n",
        "    for r in range(rows):\n",
        "        for c in range(cols):\n",
        "            char = grid[r][c]\n",
        "            if char.isalnum():  # Antennas are letters or digits\n",
        "                antenna_positions[char].append((r, c))\n",
        "\n",
        "    # Step 2: Find antinodes for each frequency\n",
        "    unique_antinodes = set()\n",
        "\n",
        "    for freq, positions in antenna_positions.items():\n",
        "        n = len(positions)\n",
        "        if n < 2:\n",
        "            continue  # No antinodes possible with fewer than 2 antennas\n",
        "\n",
        "        for i in range(n):\n",
        "            for j in range(i + 1, n):\n",
        "                r1, c1 = positions[i]\n",
        "                r2, c2 = positions[j]\n",
        "\n",
        "                # Compute differences\n",
        "                dr = r2 - r1\n",
        "                dc = c2 - c1\n",
        "\n",
        "                # First antinode (closer to r1, c1)\n",
        "                r_antin1, c_antin1 = r1 - dr, c1 - dc\n",
        "                # Second antinode (further from r2, c2)\n",
        "                r_antin2, c_antin2 = r2 + dr, c2 + dc\n",
        "\n",
        "                # Add valid antinodes within bounds\n",
        "                if 0 <= r_antin1 < rows and 0 <= c_antin1 < cols:\n",
        "                    unique_antinodes.add((r_antin1, c_antin1))\n",
        "                if 0 <= r_antin2 < rows and 0 <= c_antin2 < cols:\n",
        "                    unique_antinodes.add((r_antin2, c_antin2))\n",
        "\n",
        "    # Step 3: Return the count of unique antinodes\n",
        "    return len(unique_antinodes)\n",
        "\n",
        "# Assuming the file is named \"day8.txt\" (change to your file name if different)\n",
        "file_path = 'day8.txt'  # Replace with your actual file path\n",
        "\n",
        "# Calculate and print the result\n",
        "result = find_unique_antinodes(file_path)\n",
        "print(f\"Number of unique antinode locations: {result}\")\n"
      ]
    },
    {
      "cell_type": "markdown",
      "source": [
        "**Problem Staement:**\n",
        "You are given a grid with antennas placed at different locations. An antinode occurs at any point aligned with at least two antennas of the same frequency. The task is to find the total number of unique locations that contain an antinode."
      ],
      "metadata": {
        "id": "8VP5UHkxoOiA"
      }
    },
    {
      "cell_type": "code",
      "source": [
        " def find_all_antinodes(file_path):\n",
        "    from collections import defaultdict\n",
        "\n",
        "    # Step 1: Read the input file and parse the grid\n",
        "    with open(file_path, 'r') as file:\n",
        "        grid = [line.strip() for line in file.readlines()]\n",
        "\n",
        "    rows = len(grid)\n",
        "    cols = len(grid[0])\n",
        "\n",
        "    # Parse grid to collect antenna positions by frequency\n",
        "    antenna_positions = defaultdict(list)\n",
        "    for r in range(rows):\n",
        "        for c in range(cols):\n",
        "            char = grid[r][c]\n",
        "            if char.isalnum():  # Antennas are letters or digits\n",
        "                antenna_positions[char].append((r, c))\n",
        "\n",
        "    # Step 2: Find all antinodes for each frequency\n",
        "    unique_antinodes = set()\n",
        "\n",
        "    for freq, positions in antenna_positions.items():\n",
        "        n = len(positions)\n",
        "        if n < 2:\n",
        "            continue  # No antinodes possible with fewer than 2 antennas\n",
        "\n",
        "        # Add all antenna positions as antinodes\n",
        "        unique_antinodes.update(positions)\n",
        "\n",
        "        # Check all pairs of antennas for this frequency\n",
        "        for i in range(n):\n",
        "            for j in range(i + 1, n):\n",
        "                r1, c1 = positions[i]\n",
        "                r2, c2 = positions[j]\n",
        "\n",
        "                # Compute the direction of the line between the two antennas\n",
        "                dr = r2 - r1\n",
        "                dc = c2 - c1\n",
        "\n",
        "                # Step 2a: Generate all points along the line (in both directions)\n",
        "                for k in range(1, max(rows, cols)):  # Step through positions between the antennas\n",
        "                    r_antin1 = r1 + k * dr\n",
        "                    c_antin1 = c1 + k * dc\n",
        "                    r_antin2 = r2 - k * dr\n",
        "                    c_antin2 = c2 - k * dc\n",
        "\n",
        "                    # Step 2b: Add valid antinodes within grid bounds\n",
        "                    if 0 <= r_antin1 < rows and 0 <= c_antin1 < cols:\n",
        "                        unique_antinodes.add((r_antin1, c_antin1))\n",
        "                    if 0 <= r_antin2 < rows and 0 <= c_antin2 < cols:\n",
        "                        unique_antinodes.add((r_antin2, c_antin2))\n",
        "\n",
        "    # Step 3: Return the count of unique antinodes\n",
        "    return len(unique_antinodes)\n",
        "\n",
        "# Path to the input file\n",
        "file_path = 'day8.txt'\n",
        "\n",
        "# Call the function and print the result\n",
        "unique_count = find_all_antinodes(file_path)\n",
        "print(f\"Number of unique antinode locations: {unique_count}\")\n"
      ],
      "metadata": {
        "colab": {
          "base_uri": "https://localhost:8080/"
        },
        "id": "W6kHJn-pokWC",
        "outputId": "e1ecdb32-d001-4b95-df51-a43b1cb4d996"
      },
      "execution_count": 22,
      "outputs": [
        {
          "output_type": "stream",
          "name": "stdout",
          "text": [
            "Number of unique antinode locations: 1134\n"
          ]
        }
      ]
    }
  ]
}